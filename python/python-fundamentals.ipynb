{
  "nbformat": 4,
  "nbformat_minor": 0,
  "metadata": {
    "colab": {
      "provenance": []
    },
    "kernelspec": {
      "name": "python3",
      "display_name": "Python 3"
    },
    "language_info": {
      "name": "python"
    }
  },
  "cells": [
    {
      "cell_type": "markdown",
      "source": [
        "# **Print Function**"
      ],
      "metadata": {
        "id": "ZEsWiQMQ0vb1"
      }
    },
    {
      "cell_type": "code",
      "execution_count": 1,
      "metadata": {
        "colab": {
          "base_uri": "https://localhost:8080/"
        },
        "id": "Z5dBTXpW0FYt",
        "outputId": "3b20022b-dbe6-4efd-c006-1ca03ca9f1e6"
      },
      "outputs": [
        {
          "output_type": "stream",
          "name": "stdout",
          "text": [
            "Hello world!\n"
          ]
        }
      ],
      "source": [
        "print(\"Hello world!\")"
      ]
    },
    {
      "cell_type": "markdown",
      "source": [
        "*We can print integers, boolian values and strings in a single print statement just by seperating them by a comma ( , )*"
      ],
      "metadata": {
        "id": "3ab4ZzlZ1TqW"
      }
    },
    {
      "cell_type": "code",
      "source": [
        "print(\"My name is Arsalan Mateen\", \"Age :\", 21)"
      ],
      "metadata": {
        "colab": {
          "base_uri": "https://localhost:8080/"
        },
        "id": "DAzhqBZi1vNU",
        "outputId": "7c4d12a0-f6d5-4ead-ccb3-586adb8fb4b6"
      },
      "execution_count": 5,
      "outputs": [
        {
          "output_type": "stream",
          "name": "stdout",
          "text": [
            "My name is Arsalan Mateen Age : 21\n"
          ]
        }
      ]
    },
    {
      "cell_type": "markdown",
      "source": [
        "*By default its seperated by space, but we can override this behaviour using sep attribute*"
      ],
      "metadata": {
        "id": "2XV4qRwC2XiE"
      }
    },
    {
      "cell_type": "code",
      "source": [
        "print(\"My name is Arsalan Mateen\", \"Age :\", 21, sep=\"/\")"
      ],
      "metadata": {
        "colab": {
          "base_uri": "https://localhost:8080/"
        },
        "id": "LaBqq7kQ3EAL",
        "outputId": "3a8c36d1-4bf1-4084-e81d-4797357cf605"
      },
      "execution_count": 6,
      "outputs": [
        {
          "output_type": "stream",
          "name": "stdout",
          "text": [
            "My name is Arsalan Mateen/Age :/21\n"
          ]
        }
      ]
    },
    {
      "cell_type": "markdown",
      "source": [
        "# **Data Types in Python**"
      ],
      "metadata": {
        "id": "k_PG0oja7Ltt"
      }
    },
    {
      "cell_type": "markdown",
      "source": [
        "*Python offers variaty of datatypes* *i*-*e*.,\n",
        "\n",
        "- *integer*\n",
        "- *float*\n",
        "- *bool*\n",
        "- *complex number*\n",
        "- *list (mostly like array)*\n",
        "- *tuple*\n",
        "- *set*\n",
        "- *dictionary*"
      ],
      "metadata": {
        "id": "jzrjWZLO8GRt"
      }
    },
    {
      "cell_type": "markdown",
      "source": [
        "*If you explicitly want to check the datatypes use type() function*"
      ],
      "metadata": {
        "id": "o1TQloUU-LLB"
      }
    },
    {
      "cell_type": "code",
      "source": [
        "type(True)"
      ],
      "metadata": {
        "colab": {
          "base_uri": "https://localhost:8080/"
        },
        "id": "3Fvu1fGl-c2B",
        "outputId": "27132305-181b-45f9-957f-1e74a0590ee1"
      },
      "execution_count": 7,
      "outputs": [
        {
          "output_type": "execute_result",
          "data": {
            "text/plain": [
              "bool"
            ]
          },
          "metadata": {},
          "execution_count": 7
        }
      ]
    },
    {
      "cell_type": "code",
      "source": [
        "type (\"True\")"
      ],
      "metadata": {
        "colab": {
          "base_uri": "https://localhost:8080/"
        },
        "id": "65YLDrGc-gh_",
        "outputId": "e9cae134-c83e-4768-ab29-75d9b1feacb4"
      },
      "execution_count": 8,
      "outputs": [
        {
          "output_type": "execute_result",
          "data": {
            "text/plain": [
              "str"
            ]
          },
          "metadata": {},
          "execution_count": 8
        }
      ]
    },
    {
      "cell_type": "markdown",
      "source": [
        "# **Variables in Python**"
      ],
      "metadata": {
        "id": "8rHz8rwQ-x8a"
      }
    },
    {
      "cell_type": "markdown",
      "source": [
        "*A variable is an instance of an identifier that refers to a specific location in memory. It is used to store a value and makes it easier to access or modify that value by using a name that we define ourselves.*\n",
        "\n",
        "**Note**\n",
        "\n",
        "Python support Dynamic typing and binding."
      ],
      "metadata": {
        "id": "8mqduUXj_j1g"
      }
    },
    {
      "cell_type": "code",
      "source": [
        "name = \"Arsalan Mateen\"\n",
        "age = 21\n",
        "print (f\"My name is : {name} and I am {age} year old\")"
      ],
      "metadata": {
        "colab": {
          "base_uri": "https://localhost:8080/"
        },
        "id": "j251RTI6-4Pq",
        "outputId": "5983a548-a2a0-4528-9540-458327344b12"
      },
      "execution_count": 13,
      "outputs": [
        {
          "output_type": "stream",
          "name": "stdout",
          "text": [
            "My name is : Arsalan Mateen and I am 21 year old\n"
          ]
        }
      ]
    },
    {
      "cell_type": "markdown",
      "source": [
        "# **Input in Python**"
      ],
      "metadata": {
        "id": "RdmlVVl6H1qU"
      }
    },
    {
      "cell_type": "code",
      "source": [
        "user_email = input(\"Enter your Email :\")\n",
        "print(user_email)"
      ],
      "metadata": {
        "colab": {
          "base_uri": "https://localhost:8080/"
        },
        "id": "h_R9T7vwIAIf",
        "outputId": "d3ce55df-8502-4625-9c7e-0532dda48d2f"
      },
      "execution_count": 14,
      "outputs": [
        {
          "output_type": "stream",
          "name": "stdout",
          "text": [
            "Enter your Email :arsalanmateen.pk@gmail.com\n",
            "arsalanmateen.pk@gmail.com\n"
          ]
        }
      ]
    }
  ]
}