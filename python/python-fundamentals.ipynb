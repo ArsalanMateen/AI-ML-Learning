{
  "nbformat": 4,
  "nbformat_minor": 0,
  "metadata": {
    "colab": {
      "provenance": [],
      "collapsed_sections": [
        "ZEsWiQMQ0vb1",
        "k_PG0oja7Ltt",
        "8rHz8rwQ-x8a",
        "RdmlVVl6H1qU"
      ]
    },
    "kernelspec": {
      "name": "python3",
      "display_name": "Python 3"
    },
    "language_info": {
      "name": "python"
    }
  },
  "cells": [
    {
      "cell_type": "markdown",
      "source": [
        "# **Print Function**"
      ],
      "metadata": {
        "id": "ZEsWiQMQ0vb1"
      }
    },
    {
      "cell_type": "code",
      "execution_count": null,
      "metadata": {
        "colab": {
          "base_uri": "https://localhost:8080/"
        },
        "id": "Z5dBTXpW0FYt",
        "outputId": "3b20022b-dbe6-4efd-c006-1ca03ca9f1e6"
      },
      "outputs": [
        {
          "output_type": "stream",
          "name": "stdout",
          "text": [
            "Hello world!\n"
          ]
        }
      ],
      "source": [
        "print(\"Hello world!\")"
      ]
    },
    {
      "cell_type": "markdown",
      "source": [
        "*We can print integers, boolian values and strings in a single print statement just by seperating them by a comma ( , )*"
      ],
      "metadata": {
        "id": "3ab4ZzlZ1TqW"
      }
    },
    {
      "cell_type": "code",
      "source": [
        "print(\"My name is Arsalan Mateen\", \"Age :\", 21)"
      ],
      "metadata": {
        "colab": {
          "base_uri": "https://localhost:8080/"
        },
        "id": "DAzhqBZi1vNU",
        "outputId": "7c4d12a0-f6d5-4ead-ccb3-586adb8fb4b6"
      },
      "execution_count": null,
      "outputs": [
        {
          "output_type": "stream",
          "name": "stdout",
          "text": [
            "My name is Arsalan Mateen Age : 21\n"
          ]
        }
      ]
    },
    {
      "cell_type": "markdown",
      "source": [
        "*By default its seperated by space, but we can override this behaviour using sep attribute*"
      ],
      "metadata": {
        "id": "2XV4qRwC2XiE"
      }
    },
    {
      "cell_type": "code",
      "source": [
        "print(\"My name is Arsalan Mateen\", \"Age :\", 21, sep=\"/\")"
      ],
      "metadata": {
        "colab": {
          "base_uri": "https://localhost:8080/"
        },
        "id": "LaBqq7kQ3EAL",
        "outputId": "3a8c36d1-4bf1-4084-e81d-4797357cf605"
      },
      "execution_count": null,
      "outputs": [
        {
          "output_type": "stream",
          "name": "stdout",
          "text": [
            "My name is Arsalan Mateen/Age :/21\n"
          ]
        }
      ]
    },
    {
      "cell_type": "markdown",
      "source": [
        "# **Data Types in Python**"
      ],
      "metadata": {
        "id": "k_PG0oja7Ltt"
      }
    },
    {
      "cell_type": "markdown",
      "source": [
        "*Python offers variaty of datatypes* *i*-*e*.,\n",
        "\n",
        "- *integer*\n",
        "- *float*\n",
        "- *bool*\n",
        "- *complex number*\n",
        "- *list (mostly like array)*\n",
        "- *tuple*\n",
        "- *set*\n",
        "- *dictionary*"
      ],
      "metadata": {
        "id": "jzrjWZLO8GRt"
      }
    },
    {
      "cell_type": "markdown",
      "source": [
        "*If you explicitly want to check the datatypes use type() function*"
      ],
      "metadata": {
        "id": "o1TQloUU-LLB"
      }
    },
    {
      "cell_type": "code",
      "source": [
        "type(True)"
      ],
      "metadata": {
        "colab": {
          "base_uri": "https://localhost:8080/"
        },
        "id": "3Fvu1fGl-c2B",
        "outputId": "27132305-181b-45f9-957f-1e74a0590ee1"
      },
      "execution_count": null,
      "outputs": [
        {
          "output_type": "execute_result",
          "data": {
            "text/plain": [
              "bool"
            ]
          },
          "metadata": {},
          "execution_count": 7
        }
      ]
    },
    {
      "cell_type": "code",
      "source": [
        "type (\"True\")"
      ],
      "metadata": {
        "colab": {
          "base_uri": "https://localhost:8080/"
        },
        "id": "65YLDrGc-gh_",
        "outputId": "e9cae134-c83e-4768-ab29-75d9b1feacb4"
      },
      "execution_count": null,
      "outputs": [
        {
          "output_type": "execute_result",
          "data": {
            "text/plain": [
              "str"
            ]
          },
          "metadata": {},
          "execution_count": 8
        }
      ]
    },
    {
      "cell_type": "markdown",
      "source": [
        "# **Variables in Python**"
      ],
      "metadata": {
        "id": "8rHz8rwQ-x8a"
      }
    },
    {
      "cell_type": "markdown",
      "source": [
        "*A variable is an instance of an identifier that refers to a specific location in memory. It is used to store a value and makes it easier to access or modify that value by using a name that we define ourselves.*\n",
        "\n",
        "**Note**\n",
        "\n",
        "Python support Dynamic typing and binding."
      ],
      "metadata": {
        "id": "8mqduUXj_j1g"
      }
    },
    {
      "cell_type": "code",
      "source": [
        "name = \"Arsalan Mateen\"\n",
        "age = 21\n",
        "print (f\"My name is : {name} and I am {age} year old\")"
      ],
      "metadata": {
        "colab": {
          "base_uri": "https://localhost:8080/"
        },
        "id": "j251RTI6-4Pq",
        "outputId": "5983a548-a2a0-4528-9540-458327344b12"
      },
      "execution_count": null,
      "outputs": [
        {
          "output_type": "stream",
          "name": "stdout",
          "text": [
            "My name is : Arsalan Mateen and I am 21 year old\n"
          ]
        }
      ]
    },
    {
      "cell_type": "markdown",
      "source": [
        "# **Input in Python**"
      ],
      "metadata": {
        "id": "RdmlVVl6H1qU"
      }
    },
    {
      "cell_type": "code",
      "source": [
        "user_email = input(\"Enter your Email :\")\n",
        "print(user_email)"
      ],
      "metadata": {
        "colab": {
          "base_uri": "https://localhost:8080/"
        },
        "id": "h_R9T7vwIAIf",
        "outputId": "d3ce55df-8502-4625-9c7e-0532dda48d2f"
      },
      "execution_count": null,
      "outputs": [
        {
          "output_type": "stream",
          "name": "stdout",
          "text": [
            "Enter your Email :arsalanmateen.pk@gmail.com\n",
            "arsalanmateen.pk@gmail.com\n"
          ]
        }
      ]
    },
    {
      "cell_type": "markdown",
      "source": [
        "# **Tasks**"
      ],
      "metadata": {
        "id": "uxKbMzomX7Iy"
      }
    },
    {
      "cell_type": "markdown",
      "source": [
        "***Write a program that will convert celsius value to fahrenheit***"
      ],
      "metadata": {
        "id": "-uKXu-4mX-o-"
      }
    },
    {
      "cell_type": "code",
      "source": [
        "celsius = int(input(\"Input temperature in celsius : \"))\n",
        "fahrenhiet = ((9/5) * celsius) + 32\n",
        "\n",
        "print(f\"{celsius} celsius in fahrenhiet is : {fahrenhiet}\")\n"
      ],
      "metadata": {
        "colab": {
          "base_uri": "https://localhost:8080/"
        },
        "id": "BWSSlfY4X9nW",
        "outputId": "f3dcc106-dc36-493a-8d62-c6d6c12151e7"
      },
      "execution_count": null,
      "outputs": [
        {
          "output_type": "stream",
          "name": "stdout",
          "text": [
            "Input temperature in celsius : 34\n",
            "34 celsius in fahrenhiet is : 93.2\n"
          ]
        }
      ]
    },
    {
      "cell_type": "markdown",
      "source": [
        "***Write a program to find the simple interest when the value of principle, rate of interest and time period is provided by the user***"
      ],
      "metadata": {
        "id": "lZVfrsH-fPIR"
      }
    },
    {
      "cell_type": "code",
      "source": [
        "principle_amount = float(input(\"Enter the Principal amount: \"))\n",
        "rate_of_interest = float(input(\"Enter the Rate of Interest (per annum in %): \"))\n",
        "time_period = float(input(\"Enter the Time period (in years): \"))\n",
        "\n",
        "simple_interest = (principle_amount * rate_of_interest * time_period)/100\n",
        "\n",
        "print(f\"Simple Interest is : {simple_interest}\")"
      ],
      "metadata": {
        "colab": {
          "base_uri": "https://localhost:8080/"
        },
        "id": "tWlBBUHCfRu6",
        "outputId": "c7270638-da51-40f3-c7dd-eccbf77588b3"
      },
      "execution_count": null,
      "outputs": [
        {
          "output_type": "stream",
          "name": "stdout",
          "text": [
            "Enter the Principal amount: 1000\n",
            "Enter the Rate of Interest (per annum in %): 5\n",
            "Enter the Time period (in years): 2\n",
            "Simple Interest is : 100.0\n"
          ]
        }
      ]
    },
    {
      "cell_type": "markdown",
      "source": [
        "***Write a program to find the euclidean distance between two coordinates. Take both the coordinates from the user as input***"
      ],
      "metadata": {
        "id": "71u2IrFRiyod"
      }
    },
    {
      "cell_type": "code",
      "source": [
        "import math\n",
        "\n",
        "x1 = float(input(\"Enter x-coordinate of first point: \"))\n",
        "y1 = float(input(\"Enter y-coordinate of first point: \"))\n",
        "x2 = float(input(\"Enter x-coordinate of second point: \"))\n",
        "y2 = float(input(\"Enter y-coordinate of second point: \"))\n",
        "\n",
        "# Calculate Euclidean distance\n",
        "distance = math.sqrt((x2 - x1)**2 + (y2 - y1)**2)\n",
        "\n",
        "# Output the result\n",
        "print(f\"Euclidean Distance between the points = {distance}\")"
      ],
      "metadata": {
        "colab": {
          "base_uri": "https://localhost:8080/"
        },
        "id": "hRfJNezFi0Sa",
        "outputId": "cc638f62-7001-4017-d756-7b58a6cc1cee"
      },
      "execution_count": null,
      "outputs": [
        {
          "output_type": "stream",
          "name": "stdout",
          "text": [
            "Enter x-coordinate of first point: 3\n",
            "Enter y-coordinate of first point: 2.8\n",
            "Enter x-coordinate of second point: 1\n",
            "Enter y-coordinate of second point: 7.9\n",
            "Euclidean Distance between the points = 5.478138369920935\n"
          ]
        }
      ]
    },
    {
      "cell_type": "markdown",
      "source": [
        "# ***Operator in Python***"
      ],
      "metadata": {
        "id": "vVBOPxGtu2v2"
      }
    },
    {
      "cell_type": "markdown",
      "source": [
        "- *Arithmetic Operator*\n",
        "- *Relation Operator*\n",
        "- *Logical Operator*\n",
        "- *Bitwise Operator*\n",
        "- *Assignment Operator*\n",
        "- *Membership Operator*"
      ],
      "metadata": {
        "id": "51fSMVTzu-PP"
      }
    },
    {
      "cell_type": "code",
      "source": [
        "print(5/2) # division\n",
        "print(5//2) # --> integer division, remove the decimal digit and return the interger"
      ],
      "metadata": {
        "id": "3eCZFPR0u7nA",
        "outputId": "69cb2c58-1424-47c6-e0fa-93f5979a65c3",
        "colab": {
          "base_uri": "https://localhost:8080/"
        }
      },
      "execution_count": 2,
      "outputs": [
        {
          "output_type": "stream",
          "name": "stdout",
          "text": [
            "2.5\n",
            "2\n"
          ]
        }
      ]
    },
    {
      "cell_type": "code",
      "source": [
        "# Logical operator\n",
        "print(1 > 0 and 0 < 1 )\n",
        "\n",
        "print (1 > 0 or 0 > 1)\n",
        "\n",
        "print (not 1 > 0)"
      ],
      "metadata": {
        "id": "w_8Q474uwGRi",
        "outputId": "972e6c02-ab11-472f-c9b9-dc8f7323f055",
        "colab": {
          "base_uri": "https://localhost:8080/"
        }
      },
      "execution_count": 4,
      "outputs": [
        {
          "output_type": "stream",
          "name": "stdout",
          "text": [
            "True\n",
            "True\n",
            "False\n"
          ]
        }
      ]
    },
    {
      "cell_type": "markdown",
      "source": [
        "***Bitwise operators*** *are special operator that operates on binary numbers*"
      ],
      "metadata": {
        "id": "jLptOskzxWut"
      }
    },
    {
      "cell_type": "code",
      "source": [
        "# & --> bitwise 'AND'\n",
        "print( 2 & 4)\n",
        "\n",
        "# 0010\n",
        "# 0100\n",
        "# ----\n",
        "# 0000 --> binary of zero\n",
        "\n",
        "# | --> bitwise 'OR'\n",
        "print( 2 | 4 )\n",
        "\n",
        "# 0010\n",
        "# 0100\n",
        "# ----\n",
        "# 0110 --> binary of six\n",
        "\n",
        "# ^ --> bitwise 'XOR'\n",
        "# ~ --> bitwise 'NOT'"
      ],
      "metadata": {
        "id": "SljFDpVBw_F5",
        "outputId": "2066ad96-73fb-46bc-8858-4dc127aee340",
        "colab": {
          "base_uri": "https://localhost:8080/"
        }
      },
      "execution_count": 7,
      "outputs": [
        {
          "output_type": "stream",
          "name": "stdout",
          "text": [
            "0\n",
            "6\n"
          ]
        }
      ]
    },
    {
      "cell_type": "markdown",
      "source": [
        "***Membership operators***\n",
        "- ***in***\n",
        "- ***not in***\n",
        "\n",
        "*used to test for the presence of a value within a sequence.*"
      ],
      "metadata": {
        "id": "-Bp72fGZzpBB"
      }
    },
    {
      "cell_type": "code",
      "source": [
        "my_list = [1, 2, 3, 4, 5]\n",
        "\n",
        "print(3 in my_list)\n",
        "print(6 in my_list)"
      ],
      "metadata": {
        "id": "oV7xrD5xyDaF",
        "outputId": "a1bd7dcd-f6cb-48c7-efb8-2a5201f63c57",
        "colab": {
          "base_uri": "https://localhost:8080/"
        }
      },
      "execution_count": 9,
      "outputs": [
        {
          "output_type": "stream",
          "name": "stdout",
          "text": [
            "True\n",
            "False\n"
          ]
        }
      ]
    },
    {
      "cell_type": "code",
      "source": [
        "my_list = [1, 2, 3, 4, 5]\n",
        "\n",
        "print(6 not in my_list)\n",
        "print(3 not in my_list)"
      ],
      "metadata": {
        "id": "eKk2JyoI0pWN",
        "outputId": "0cdd95ea-9ead-4cda-afa4-9030ef76e29d",
        "colab": {
          "base_uri": "https://localhost:8080/"
        }
      },
      "execution_count": 10,
      "outputs": [
        {
          "output_type": "stream",
          "name": "stdout",
          "text": [
            "True\n",
            "False\n"
          ]
        }
      ]
    },
    {
      "cell_type": "code",
      "source": [],
      "metadata": {
        "id": "VgEcE9jU3K2G"
      },
      "execution_count": null,
      "outputs": []
    },
    {
      "cell_type": "markdown",
      "source": [
        "# ***Conditional Statments***"
      ],
      "metadata": {
        "id": "W-49XzjT3oWj"
      }
    },
    {
      "cell_type": "code",
      "source": [
        "# suppose we have the following user cridentials in DB\n",
        "# user_email = \"arsalanmateen.pk@gmail.com\"\n",
        "# user_password = \"arsalanmateen\"\n",
        "\n",
        "# lets implement the login program\n",
        "email = input(\"enter email : \")\n",
        "password = input(\"enter password : \")\n",
        "\n",
        "if email == \"arsalanmateen.pk@gmail.com\" and password == \"arsalanmateen\" :\n",
        "  print(\"Welcome Arsalan !\")\n",
        "else :\n",
        "  print(\"Incorrect email or password !\")"
      ],
      "metadata": {
        "id": "yAcQhm823viv",
        "outputId": "0164d61e-ffde-42c6-f133-53c689a9dc3f",
        "colab": {
          "base_uri": "https://localhost:8080/"
        }
      },
      "execution_count": 14,
      "outputs": [
        {
          "output_type": "stream",
          "name": "stdout",
          "text": [
            "enter email : arsalanmateen.pk@gmail.com\n",
            "enter password : arsalanmateen\n",
            "Welcome Arsalan !\n"
          ]
        }
      ]
    },
    {
      "cell_type": "markdown",
      "source": [
        "# ***Modules in Python***\n",
        "\n",
        "*module is a file containing Python code, which can include definitions of functions, classes, variables, and even runnable statements*"
      ],
      "metadata": {
        "id": "NLdrnc8K7GON"
      }
    },
    {
      "cell_type": "markdown",
      "source": [
        "- *math*\n",
        "- *random*\n",
        "- *datetime*"
      ],
      "metadata": {
        "id": "DeOtxWEh7gcv"
      }
    },
    {
      "cell_type": "code",
      "source": [
        "import math\n",
        "\n",
        "math.sqrt(16)"
      ],
      "metadata": {
        "id": "d1nB1rDF7LJw",
        "outputId": "1d82812a-80f3-46c8-b40f-f15018021dfb",
        "colab": {
          "base_uri": "https://localhost:8080/"
        }
      },
      "execution_count": 15,
      "outputs": [
        {
          "output_type": "execute_result",
          "data": {
            "text/plain": [
              "4.0"
            ]
          },
          "metadata": {},
          "execution_count": 15
        }
      ]
    },
    {
      "cell_type": "code",
      "source": [
        "import random\n",
        "\n",
        "random.randint(1, 1000)"
      ],
      "metadata": {
        "id": "wKbsie6q76dY",
        "outputId": "0f629d54-8f78-46b0-f836-5f7493f2a7af",
        "colab": {
          "base_uri": "https://localhost:8080/"
        }
      },
      "execution_count": 16,
      "outputs": [
        {
          "output_type": "execute_result",
          "data": {
            "text/plain": [
              "937"
            ]
          },
          "metadata": {},
          "execution_count": 16
        }
      ]
    },
    {
      "cell_type": "code",
      "source": [
        "import datetime\n",
        "\n",
        "print(datetime.datetime.now())"
      ],
      "metadata": {
        "id": "drxkuVYP8PKZ",
        "outputId": "84007b3c-c911-4cf2-e297-6ad7a4877b30",
        "colab": {
          "base_uri": "https://localhost:8080/"
        }
      },
      "execution_count": 18,
      "outputs": [
        {
          "output_type": "stream",
          "name": "stdout",
          "text": [
            "2025-06-18 12:09:41.334660\n"
          ]
        }
      ]
    }
  ]
}